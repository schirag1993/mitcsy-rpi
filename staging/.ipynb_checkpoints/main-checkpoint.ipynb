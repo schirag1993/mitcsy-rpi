{
 "cells": [
  {
   "cell_type": "code",
   "execution_count": 1,
   "metadata": {},
   "outputs": [],
   "source": [
    "from lib.luisHelper.luisHelper import getIntentAndEntities\n",
    "from lib.med.medHelper import medicalQuery\n",
    "from lib.ocr.ocr import getRecognizedText\n",
    "from lib.face.face import faceHandler\n",
    "from lib.bingSpeech.textToSpeech import tts\n",
    "from lib.bingSpeech.speechToText import stt\n",
    "from lib.twitter.twitter import tweet\n",
    "import re"
   ]
  },
  {
   "cell_type": "code",
   "execution_count": 2,
   "metadata": {},
   "outputs": [],
   "source": [
    "from lib.snowboy import snowboy"
   ]
  },
  {
   "cell_type": "code",
   "execution_count": 2,
   "metadata": {},
   "outputs": [],
   "source": [
    "def handleAudio():\n",
    "    medPattern = re.compile(pattern='med.*')\n",
    "    errorResponse = \"I'm sorry. Something went wrong.\"\n",
    "    noneHandler = \"My apologies. I do not have that kind of functionality yet.\"\n",
    "    result = stt()\n",
    "    if(type(result) != tuple):\n",
    "        tts(errorResponse)\n",
    "    elif(result[0]):\n",
    "        textCommand = result[1]\n",
    "        luisResponse = getIntentAndEntities(textCommand)\n",
    "        if(re.search(medPattern, luisResponse['intent'])):\n",
    "            if(luisResponse['intent'] == 'medical.findDisease'):\n",
    "                medicalQuery(luisResponse)\n",
    "            elif(luisResponse['intent'] == 'medical.getDescription'):\n",
    "                medicalQuery(luisResponse)\n",
    "            elif(luisResponse['intent'] == 'medical.getSymptoms'):\n",
    "                medicalQuery(luisResponse)\n",
    "            elif(luisResponse['intent'] == 'medical.identifyPatient'):\n",
    "                faceHandler(luisResponse)\n",
    "            elif(luisResponse['intent'] == 'medical.registerPatient'):\n",
    "                faceHandler(luisResponse)\n",
    "        elif(luisResponse['intent'] == 'None'):\n",
    "            tts(noneHandler)\n",
    "        elif(luisResponse['intent'] == 'Camera.CapturePhoto'):\n",
    "            tweet()\n",
    "    else:\n",
    "        tts(result[1])\n",
    "    return"
   ]
  },
  {
   "cell_type": "code",
   "execution_count": null,
   "metadata": {},
   "outputs": [],
   "source": []
  }
 ],
 "metadata": {
  "kernelspec": {
   "display_name": "Python 3",
   "language": "python",
   "name": "python3"
  },
  "language_info": {
   "codemirror_mode": {
    "name": "ipython",
    "version": 3
   },
   "file_extension": ".py",
   "mimetype": "text/x-python",
   "name": "python",
   "nbconvert_exporter": "python",
   "pygments_lexer": "ipython3",
   "version": "3.4.2"
  }
 },
 "nbformat": 4,
 "nbformat_minor": 2
}

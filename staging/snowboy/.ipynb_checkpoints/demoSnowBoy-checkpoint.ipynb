{
 "cells": [
  {
   "cell_type": "code",
   "execution_count": 13,
   "metadata": {},
   "outputs": [],
   "source": [
    "import snowboydecoder, sys, signal\n",
    "from pathlib import Path"
   ]
  },
  {
   "cell_type": "code",
   "execution_count": 14,
   "metadata": {},
   "outputs": [],
   "source": [
    "interrupted = False\n",
    "modelPath = Path('../resources/snowboy.umdl')\n",
    "model = str(modelPath)"
   ]
  },
  {
   "cell_type": "code",
   "execution_count": 1,
   "metadata": {},
   "outputs": [],
   "source": [
    "def sayHello():\n",
    "    print(\"Hi there! I heard you\")"
   ]
  },
  {
   "cell_type": "code",
   "execution_count": null,
   "metadata": {},
   "outputs": [],
   "source": [
    "def signal_handler(signal, frame):\n",
    "    global interrupted\n",
    "    interrupted = True\n",
    "\n",
    "\n",
    "def interrupt_callback():\n",
    "    global interrupted\n",
    "    return interrupted\n",
    "\n",
    "# capture SIGINT signal, e.g., Ctrl+C\n",
    "signal.signal(signal.SIGINT, signal_handler)\n",
    "\n",
    "detector = snowboydecoder.HotwordDetector(model, sensitivity=0.5)\n",
    "print('Listening... Press Ctrl+C to exit')\n",
    "\n",
    "# main loop\n",
    "detector.start(detected_callback=sayHello,\n",
    "               interrupt_check=interrupt_callback,\n",
    "               sleep_time=0.03)\n",
    "\n",
    "detector.terminate()"
   ]
  }
 ],
 "metadata": {
  "kernelspec": {
   "display_name": "Python 3",
   "language": "python",
   "name": "python3"
  },
  "language_info": {
   "codemirror_mode": {
    "name": "ipython",
    "version": 3
   },
   "file_extension": ".py",
   "mimetype": "text/x-python",
   "name": "python",
   "nbconvert_exporter": "python",
   "pygments_lexer": "ipython3",
   "version": "3.4.2"
  }
 },
 "nbformat": 4,
 "nbformat_minor": 2
}

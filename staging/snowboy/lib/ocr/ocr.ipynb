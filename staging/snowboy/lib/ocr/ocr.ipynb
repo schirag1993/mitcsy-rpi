{
 "cells": [
  {
   "cell_type": "markdown",
   "metadata": {},
   "source": [
    "# Handwritten OCR\n",
    "\n",
    "Here, we first use OCR to get text data from the images. Following which, we store that data in a repo that allows for querying and retrieving."
   ]
  },
  {
   "cell_type": "code",
   "execution_count": 91,
   "metadata": {},
   "outputs": [],
   "source": [
    "from pymongo import MongoClient\n",
    "import json, requests, time\n",
    "import pandas as pd\n",
    "from pprint import pprint"
   ]
  },
  {
   "cell_type": "markdown",
   "metadata": {},
   "source": [
    "# Helper Functions"
   ]
  },
  {
   "cell_type": "markdown",
   "metadata": {},
   "source": [
    "### CV API Details:"
   ]
  },
  {
   "cell_type": "code",
   "execution_count": 33,
   "metadata": {},
   "outputs": [],
   "source": [
    "def getCVCreds():\n",
    "    credentials = json.load(open('../credentials.json'))\n",
    "    cvCreds = credentials['cognitiveServices']['computerVision']\n",
    "    return cvCreds"
   ]
  },
  {
   "cell_type": "code",
   "execution_count": 80,
   "metadata": {},
   "outputs": [],
   "source": [
    "def getCVRequestURL(cvCreds):\n",
    "    fullEndpoint = cvCreds['endPoint'] + \"/RecognizeText\"\n",
    "    return(fullEndpoint)"
   ]
  },
  {
   "cell_type": "code",
   "execution_count": 81,
   "metadata": {},
   "outputs": [],
   "source": [
    "def getCVOperationsURL(cvCreds):\n",
    "    fullEndPoint = cvCreds['endPoint'] + \"/textOperations\"\n",
    "    return(fullEndPoint)"
   ]
  },
  {
   "cell_type": "code",
   "execution_count": 35,
   "metadata": {},
   "outputs": [],
   "source": [
    "def getCVKey(cvCreds):\n",
    "    return cvCreds['key']"
   ]
  },
  {
   "cell_type": "code",
   "execution_count": 36,
   "metadata": {},
   "outputs": [],
   "source": [
    "def createHeaders(subscription_key):\n",
    "    headers = {\n",
    "    'Content-Type': 'application/octet-stream',\n",
    "    'Ocp-Apim-Subscription-Key': subscription_key,\n",
    "    }\n",
    "    return(headers)"
   ]
  },
  {
   "cell_type": "code",
   "execution_count": 37,
   "metadata": {},
   "outputs": [],
   "source": [
    "def createParams():\n",
    "    params = {\n",
    "        \"handwriting\" : 'true'\n",
    "    }\n",
    "    return params"
   ]
  },
  {
   "cell_type": "code",
   "execution_count": 73,
   "metadata": {},
   "outputs": [],
   "source": [
    "def getOperationsID(headers, cvCreds):\n",
    "    getCVOperationsURL(cvCreds)\n",
    "    operationsID = operationsLocation.split('https://eastus2.api.cognitive.microsoft.com/vision/v1.0/textOperations')[1]\n",
    "    operationsID = operationsID.replace(\"/\",\"\")\n",
    "    return(operationsID)"
   ]
  },
  {
   "cell_type": "code",
   "execution_count": 116,
   "metadata": {},
   "outputs": [],
   "source": [
    "def generateOCRRequest():\n",
    "    cvCreds = getCVCreds()\n",
    "    endpoint = getCVRequestURL(cvCreds=cvCreds)\n",
    "    key = getCVKey(cvCreds)\n",
    "    headers = createHeaders(key)\n",
    "    params = createParams()\n",
    "    body = open('./sample.png','rb')\n",
    "    response = requests.post(url=endpoint, headers=headers, params=params, data=body)\n",
    "    body.close()\n",
    "    response.close()\n",
    "    return(response,headers)"
   ]
  },
  {
   "cell_type": "code",
   "execution_count": 113,
   "metadata": {},
   "outputs": [],
   "source": [
    "def handleResponse(res,headers):\n",
    "    if(res.status_code != 202):\n",
    "        pprint(\"Error: \" + res.status_code)\n",
    "        pprint(\"Error: \" + res.reason)\n",
    "        return(res.reason)\n",
    "    else:\n",
    "        pprint(\"OCR submitted for analysis, stand by. This may take up to ten seconds...\")\n",
    "        time.sleep(5)\n",
    "        operationsLocation = res.headers['Operation-Location']\n",
    "        analyzedText = checkStatus(operationsLocation,headers)\n",
    "        return(analyzedText)"
   ]
  },
  {
   "cell_type": "code",
   "execution_count": 114,
   "metadata": {},
   "outputs": [],
   "source": [
    "def checkStatus(operationsLocation, headers):\n",
    "    failed = \"Polling failed. Please try again\"\n",
    "    req = requests.get(url=operationsLocation, headers=headers)\n",
    "    if(req.status_code == 200):\n",
    "        pprint(\"Analysis complete\")\n",
    "        req.close()\n",
    "        return({\n",
    "            \"status\" : True,\n",
    "            \"text\" : req.json()\n",
    "        })\n",
    "    else:\n",
    "        flag = False\n",
    "        req.close()\n",
    "        retries = 5\n",
    "        count = 0\n",
    "        while(Flag != True):\n",
    "            time.sleep(1)\n",
    "            req = requests.get(url=operationsLocation, headers=headers)\n",
    "            req.close()\n",
    "            if(req.status_code == 200):\n",
    "                flag = True\n",
    "                pprint(\"Analysis completed after polling\")\n",
    "                return({\n",
    "                    \"status\" : True,\n",
    "                    \"text\" : req.json()\n",
    "                })\n",
    "            count = count + 1\n",
    "            if(count>=retries):\n",
    "                flag = True\n",
    "                return({\n",
    "                    \"status\" : False,\n",
    "                    \"text\" : req.reason\n",
    "                })\n",
    "        return(\"Something went wrong\")"
   ]
  },
  {
   "cell_type": "code",
   "execution_count": 1,
   "metadata": {},
   "outputs": [],
   "source": [
    "def captureImage():\n",
    "#     NOTE: FILE NAME IS HARDCODED\n",
    "#     Save as \"sample.*\"  \n",
    "    pprint(\"Image captured!\")"
   ]
  },
  {
   "cell_type": "code",
   "execution_count": 176,
   "metadata": {},
   "outputs": [],
   "source": [
    "def getRecognizedText():\n",
    "    captureImage()\n",
    "    res,headers = generateOCRRequest()\n",
    "    jsonText = handleResponse(res,headers)\n",
    "    recogResult = jsonText['text']['recognitionResult']['lines']\n",
    "    valueList = []\n",
    "    for line in recogResult:\n",
    "        valueList.append(line['text'])\n",
    "    return(valueList)"
   ]
  }
 ],
 "metadata": {
  "kernelspec": {
   "display_name": "Python 3",
   "language": "python",
   "name": "python3"
  },
  "language_info": {
   "codemirror_mode": {
    "name": "ipython",
    "version": 3
   },
   "file_extension": ".py",
   "mimetype": "text/x-python",
   "name": "python",
   "nbconvert_exporter": "python",
   "pygments_lexer": "ipython3",
   "version": "3.5.4"
  }
 },
 "nbformat": 4,
 "nbformat_minor": 2
}

{
 "cells": [
  {
   "cell_type": "code",
   "execution_count": 1,
   "metadata": {},
   "outputs": [],
   "source": [
    "import json, requests, re, nltk\n",
    "from pprint import pprint\n",
    "from watson_developer_cloud import DiscoveryV1"
   ]
  },
  {
   "cell_type": "code",
   "execution_count": 4,
   "metadata": {},
   "outputs": [
    {
     "name": "stdout",
     "output_type": "stream",
     "text": [
      "[nltk_data] Downloading package punkt to /root/nltk_data...\n",
      "[nltk_data]   Unzipping tokenizers/punkt.zip.\n"
     ]
    },
    {
     "data": {
      "text/plain": [
       "True"
      ]
     },
     "execution_count": 4,
     "metadata": {},
     "output_type": "execute_result"
    }
   ],
   "source": [
    "nltk.download('punkt')"
   ]
  },
  {
   "cell_type": "code",
   "execution_count": 13,
   "metadata": {},
   "outputs": [],
   "source": [
    "def removePunc(s):\n",
    "    words = nltk.word_tokenize(s)\n",
    "    words=[word.lower() for word in words if word.isalpha()]\n",
    "    sentence = \"\"\n",
    "    count = 0\n",
    "    for word in words:\n",
    "        if(count == 0):\n",
    "            sentence = word\n",
    "        else:\n",
    "            sentence = sentence + \" \" + word\n",
    "        count = count + 1\n",
    "    return(sentence)"
   ]
  },
  {
   "cell_type": "code",
   "execution_count": 15,
   "metadata": {},
   "outputs": [],
   "source": [
    "def getIBMCreds():\n",
    "    credentials = json.load(open('../credentials.json'))\n",
    "    ibmCreds = credentials['ibm']['discovery']\n",
    "    return ibmCreds"
   ]
  },
  {
   "cell_type": "code",
   "execution_count": 16,
   "metadata": {},
   "outputs": [],
   "source": [
    "def getQuery():\n",
    "    tts('Please state your query. ')\n",
    "    record_to_file('discoveryQuery.wav')\n",
    "    query = discoveryStt()\n",
    "    return(query)"
   ]
  },
  {
   "cell_type": "code",
   "execution_count": 17,
   "metadata": {},
   "outputs": [],
   "source": [
    "def constructQuery(query):\n",
    "    query_options = {'natural_language_query': query,\n",
    "                 'count' : 3,\n",
    "                 'passages':True}\n",
    "    return(query_options)"
   ]
  },
  {
   "cell_type": "code",
   "execution_count": 18,
   "metadata": {},
   "outputs": [],
   "source": [
    "def getQueryResults(discoveryDetails, queryOptions):\n",
    "    env_id, collections, discovery = discoveryDetails\n",
    "    queryResults = discovery.query(environment_id=env_id, \n",
    "                               collection_id=collections[0]['collection_id'],\n",
    "                               natural_language_query=queryOptions['natural_language_query'], \n",
    "                               passages=queryOptions['passages'], count=queryOptions['count'])\n",
    "    return(queryResults)"
   ]
  },
  {
   "cell_type": "code",
   "execution_count": 19,
   "metadata": {},
   "outputs": [],
   "source": [
    "def cleanPassage(passage):\n",
    "    tagRegEx = re.compile('<.*?>')\n",
    "    cleanedText = re.sub(tagRegEx, '', passage)\n",
    "    cleanedText = cleanedText.rstrip()\n",
    "    cleanedText = cleanedText.replace('\\n', '. ')\n",
    "    return(cleanedText)"
   ]
  },
  {
   "cell_type": "code",
   "execution_count": 20,
   "metadata": {},
   "outputs": [],
   "source": [
    "def getPassage(queryResults):\n",
    "    passages = []\n",
    "    for passage in queryResults['passages']:\n",
    "        passages.append(passage)\n",
    "    passageScore = 0\n",
    "    targetPassages = []\n",
    "    for passage in passages:\n",
    "        for key in passage.keys():\n",
    "            if(passageScore < passage['passage_score']):\n",
    "                passageScore = passage['passage_score']\n",
    "                targetPassages.append(passage)\n",
    "    targetPassage = targetPassages[0]['passage_text']\n",
    "    cleanedPassage = cleanPassage(targetPassage)\n",
    "    print(\"Target passage with highest score is: \")\n",
    "    print(targetPassage)\n",
    "    return(cleanedPassage)"
   ]
  },
  {
   "cell_type": "code",
   "execution_count": 21,
   "metadata": {},
   "outputs": [],
   "source": [
    "def askDiscovery():\n",
    "    ibmCreds = getIBMCreds()\n",
    "    discovery = DiscoveryV1(version='2017-11-07',\n",
    "                            username=ibmCreds['username'],\n",
    "                            password=ibmCreds['password'])\n",
    "    env = discovery.list_environments()['environments'][1]\n",
    "    env_id = env['environment_id']\n",
    "    collections = discovery.list_collections(env_id)\n",
    "    collections = collections['collections']\n",
    "    discoveryDetails = (env_id, collections, discovery)\n",
    "    query = getQuery()\n",
    "    queryOptions = constructQuery(query)\n",
    "    queryResults = getQueryResults(discoveryDetails, queryOptions)\n",
    "    passage = getPassage(queryResults)\n",
    "    print(\"Passage after cleaning is: \")\n",
    "    print(\"--------------------***--------------------\")\n",
    "    print(passage)\n",
    "    return(passage)"
   ]
  }
 ],
 "metadata": {
  "kernelspec": {
   "display_name": "Python 3",
   "language": "python",
   "name": "python3"
  },
  "language_info": {
   "codemirror_mode": {
    "name": "ipython",
    "version": 3
   },
   "file_extension": ".py",
   "mimetype": "text/x-python",
   "name": "python",
   "nbconvert_exporter": "python",
   "pygments_lexer": "ipython3",
   "version": "3.4.2"
  }
 },
 "nbformat": 4,
 "nbformat_minor": 2
}

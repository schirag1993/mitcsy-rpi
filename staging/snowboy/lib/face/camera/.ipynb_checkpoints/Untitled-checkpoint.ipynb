{
 "cells": [
  {
   "cell_type": "code",
   "execution_count": 4,
   "metadata": {},
   "outputs": [],
   "source": [
    "from pymongo import MongoClient\n",
    "from pymongo import ReturnDocument\n",
    "import json, requests\n",
    "from pprint import pprint"
   ]
  },
  {
   "cell_type": "code",
   "execution_count": 5,
   "metadata": {},
   "outputs": [],
   "source": [
    "def getFaceAPICreds():\n",
    "    credentials = json.load(open('../credentials.json'))\n",
    "    faceCreds = credentials['cognitiveServices']['faceDetection']\n",
    "    return faceCreds\n",
    "\n",
    "def getFaceDetectURL(faceCreds):\n",
    "    return(faceCreds['endPoint'] + '/detect')\n",
    "\n",
    "def getFaceIdentifyURL(faceCreds):\n",
    "    return(faceCreds['endPoint'] + '/identify')\n",
    "\n",
    "def getPersonGroupURL(faceCreds):\n",
    "    return(faceCreds['endPoint'] + '/persongroups')\n",
    "\n",
    "def getFaceKey(faceCreds):\n",
    "    return(faceCreds['key'])"
   ]
  },
  {
   "cell_type": "code",
   "execution_count": 6,
   "metadata": {},
   "outputs": [],
   "source": [
    "def createHeaders(subscription_key, contentType):\n",
    "    headers = {\n",
    "    'Content-Type': 'application/' + contentType,\n",
    "    'Ocp-Apim-Subscription-Key': subscription_key,\n",
    "    }\n",
    "    return(headers)\n",
    "\n",
    "def createParams():\n",
    "    params = {\n",
    "    'returnFaceId': 'true',\n",
    "    'returnFaceLandmarks': 'false',\n",
    "    'returnFaceAttributes': 'age,gender,blur,exposure,noise'\n",
    "    }\n",
    "    return(params)"
   ]
  },
  {
   "cell_type": "code",
   "execution_count": 7,
   "metadata": {},
   "outputs": [],
   "source": [
    "def getFaceDetails(res):\n",
    "    faceId = res.json()[0]['faceId']\n",
    "    noiseLevel = res.json()[0]['faceAttributes']['noise']['noiseLevel']\n",
    "    blurLevel = res.json()[0]['faceAttributes']['blur']['blurLevel']\n",
    "#     all attributes not necessary; for extra functionality later:\n",
    "    return({\n",
    "        \"faceId\" : faceId,\n",
    "        \"noiseLevel\" : noiseLevel,\n",
    "        \"blurLevel\" : blurLevel\n",
    "    })"
   ]
  },
  {
   "cell_type": "code",
   "execution_count": 8,
   "metadata": {},
   "outputs": [],
   "source": [
    "def getFaceId():\n",
    "    faceCreds = getFaceAPICreds()\n",
    "    key = getFaceKey(faceCreds)\n",
    "    headers = createHeaders(key, 'octet-stream')\n",
    "    params = createParams()\n",
    "    url = getFaceDetectURL(faceCreds)\n",
    "    body = open('./target.jpg', 'rb')\n",
    "    response = requests.post(url=url,data=body,params=params,headers=headers)\n",
    "    body.close()\n",
    "    if( len(response.json()) == 0 ):\n",
    "        return(False)\n",
    "    faceID = getFaceDetails(response)['faceId']\n",
    "    return(faceID)"
   ]
  },
  {
   "cell_type": "code",
   "execution_count": 33,
   "metadata": {},
   "outputs": [],
   "source": [
    "def identifyPatient(personGroupId):\n",
    "#     if(captureTargetImage()):\n",
    "#         print(\"Image prepping for analysis\")\n",
    "#     else:\n",
    "#         print(\"Image capture failed\")\n",
    "#         return(False)\n",
    "    faceIds = []\n",
    "    faceId = getFaceId()\n",
    "    if(faceId == False):\n",
    "        return(\"No faces detected!\")\n",
    "    faceIds.append(faceId)\n",
    "    faceCreds = getFaceAPICreds()\n",
    "    key = getFaceKey(faceCreds)\n",
    "    url = getFaceIdentifyURL(faceCreds)\n",
    "    headers = createHeaders(key, 'json')\n",
    "    body = {\n",
    "        \"faceIds\" : faceIds,\n",
    "        \"personGroupId\" : personGroupId,\n",
    "        \"maxNumOfCandidatesReturned\" : 1,\n",
    "        \"confidenceThreshold\" : 0.7\n",
    "    }\n",
    "    req = requests.post(url=url, headers=headers, json=body)\n",
    "    candidate = findPatientRecords(req.json())\n",
    "    if(candidate == False):\n",
    "        return(\"Face does not match any patients or Patient not registered\")\n",
    "    response = \"Hello, \" + candidate\n",
    "    return(response)"
   ]
  },
  {
   "cell_type": "code",
   "execution_count": 34,
   "metadata": {},
   "outputs": [],
   "source": [
    "def findPatient(personId):\n",
    "    client = getClient()\n",
    "    patientCollection = getPatients(client)\n",
    "    dbResult = patientCollection.find_one({\"personId\" : personId})\n",
    "    return(dbResult)\n",
    "\n",
    "def getDBCreds():\n",
    "    credentials = json.load(open('../credentials.json'))\n",
    "    dbCreds = credentials['database']\n",
    "    return dbCreds\n",
    "\n",
    "def connectToDB(dbCreds):\n",
    "    cosmosConnString = \"mongodb://\" + dbCreds['username'] + \":\" + dbCreds['password'] + \"@\" + dbCreds['host'] + \":\" + str(dbCreds['port']) + \"/?ssl=true&replicaSet=globaldb\"\n",
    "    client = MongoClient(cosmosConnString)\n",
    "    return client\n",
    "\n",
    "def getClient():\n",
    "    dbCreds = getDBCreds()\n",
    "    client = connectToDB(dbCreds)\n",
    "    return client\n",
    "\n",
    "def getPatients(client):\n",
    "    db = client[\"admin\"]\n",
    "    patientCollection = db[\"patients\"]\n",
    "    return patientCollection\n"
   ]
  },
  {
   "cell_type": "code",
   "execution_count": 35,
   "metadata": {},
   "outputs": [],
   "source": [
    "def findPatientRecords(response):\n",
    "    if(len(response[0]['candidates']) == 0):\n",
    "        print(\"No recognized candidates\")\n",
    "        return(False)\n",
    "    personId = response[0]['candidates'][0]['personId']\n",
    "    result = findPatient(personId)\n",
    "    pprint(result)\n",
    "    if(result):\n",
    "        result = result['name']\n",
    "        return(result)\n",
    "    else:\n",
    "        print(\"Unable to find patient\")\n",
    "        return(False)"
   ]
  },
  {
   "cell_type": "code",
   "execution_count": 38,
   "metadata": {},
   "outputs": [],
   "source": [
    "def addPersonFace(file, personGroupId, personId):\n",
    "    faceCreds = getFaceAPICreds()\n",
    "    key = getFaceKey(faceCreds)\n",
    "    headers = createHeaders(key, 'octet-stream')\n",
    "    url = getPersonGroupURL(faceCreds)\n",
    "    fullURL = url + '/' + personGroupId + '/persons/' + personId + '/persistedFaces'\n",
    "    body = file.read_bytes()\n",
    "    req = requests.post(url=fullURL, data=body, headers=headers)\n",
    "    print(\"Response: \" + str(req.status_code) + \"; Persisted Face ID: \" + req.json()['persistedFaceId'])\n",
    "    if(req.status_code != 200):\n",
    "        print(\"Error: \" + pprint(req.json()))\n",
    "    else:\n",
    "        print(\"Success\")\n",
    "        pprint(req.json())\n",
    "    return(req)"
   ]
  },
  {
   "cell_type": "code",
   "execution_count": null,
   "metadata": {},
   "outputs": [],
   "source": []
  }
 ],
 "metadata": {
  "kernelspec": {
   "display_name": "Python 3",
   "language": "python",
   "name": "python3"
  },
  "language_info": {
   "codemirror_mode": {
    "name": "ipython",
    "version": 3
   },
   "file_extension": ".py",
   "mimetype": "text/x-python",
   "name": "python",
   "nbconvert_exporter": "python",
   "pygments_lexer": "ipython3",
   "version": "3.4.2"
  }
 },
 "nbformat": 4,
 "nbformat_minor": 2
}

{
 "cells": [
  {
   "cell_type": "code",
   "execution_count": 116,
   "metadata": {},
   "outputs": [],
   "source": [
    "import requests, json\n",
    "import cognitive_face as CF\n",
    "from pprint import pprint\n",
    "from pathlib import Path\n",
    "from pymongo import MongoClient\n",
    "from pymongo import ReturnDocument"
   ]
  },
  {
   "cell_type": "code",
   "execution_count": 4,
   "metadata": {},
   "outputs": [],
   "source": [
    "def getFaceAPICreds():\n",
    "    credentials = json.load(open('../credentials.json'))\n",
    "    faceCreds = credentials['cognitiveServices']['faceDetection']\n",
    "    return faceCreds"
   ]
  },
  {
   "cell_type": "code",
   "execution_count": 201,
   "metadata": {},
   "outputs": [],
   "source": [
    "def captureTrainingImages():\n",
    "    path = Path('trainingImages')\n",
    "    # Note: The captured images must be named face**.jpeg; \n",
    "    # These files must be stored in \"./trainingImages\"\n",
    "    # Where ** represents numbers ranging from 00 to 10\n",
    "    # We need to get eleven images to train the model\n",
    "    pprint(\"Images captured!\")\n",
    "    return(path)"
   ]
  },
  {
   "cell_type": "code",
   "execution_count": 151,
   "metadata": {},
   "outputs": [],
   "source": [
    "def getFaceDetectURL(faceCreds):\n",
    "    return(faceCreds['endPoint'] + '/detect')\n",
    "\n",
    "def getFaceIdentifyURL(faceCreds):\n",
    "    return(faceCreds['endPoint'] + '/identify')\n",
    "\n",
    "def getPersonGroupURL(faceCreds):\n",
    "    return(faceCreds['endPoint'] + '/persongroups')"
   ]
  },
  {
   "cell_type": "code",
   "execution_count": 8,
   "metadata": {},
   "outputs": [],
   "source": [
    "def getFaceKey(faceCreds):\n",
    "    return(faceCreds['key'])"
   ]
  },
  {
   "cell_type": "code",
   "execution_count": 9,
   "metadata": {},
   "outputs": [],
   "source": [
    "def checkCountValue(count):\n",
    "    if(count<10):\n",
    "        count = \"0\" + str(count)\n",
    "        return(count)\n",
    "    else:\n",
    "        return(count)"
   ]
  },
  {
   "cell_type": "code",
   "execution_count": 10,
   "metadata": {},
   "outputs": [],
   "source": [
    "def renameImages(p):\n",
    "    count = 0\n",
    "    for file in p.glob('*.jpg'):\n",
    "        imageCount = checkCountValue(count)\n",
    "        newImageName = \"image\" + checkCountValue(count) + \".jpg\"\n",
    "        print(\"Current file name is: \")\n",
    "        print(file)\n",
    "        file.rename(newImageName)\n",
    "        count = count + 1"
   ]
  },
  {
   "cell_type": "code",
   "execution_count": 11,
   "metadata": {},
   "outputs": [],
   "source": [
    "def createHeaders(subscription_key, contentType):\n",
    "    headers = {\n",
    "    'Content-Type': 'application/' + contentType,\n",
    "    'Ocp-Apim-Subscription-Key': subscription_key,\n",
    "    }\n",
    "    return(headers)"
   ]
  },
  {
   "cell_type": "code",
   "execution_count": 12,
   "metadata": {},
   "outputs": [],
   "source": [
    "def createParams():\n",
    "    params = {\n",
    "    'returnFaceId': 'true',\n",
    "    'returnFaceLandmarks': 'false',\n",
    "    'returnFaceAttributes': 'age,gender,blur,exposure,noise'\n",
    "    }\n",
    "    return(params)"
   ]
  },
  {
   "cell_type": "code",
   "execution_count": 175,
   "metadata": {},
   "outputs": [],
   "source": [
    "def getFaceDetails(res):\n",
    "    faceId = res.json()[0]['faceId']\n",
    "    noiseLevel = res.json()[0]['faceAttributes']['noise']['noiseLevel']\n",
    "    blurLevel = res.json()[0]['faceAttributes']['blur']['blurLevel']\n",
    "#     all attributes not necessary; for extra functionality later:\n",
    "    return({\n",
    "        \"faceId\" : faceId,\n",
    "        \"noiseLevel\" : noiseLevel,\n",
    "        \"blurLevel\" : blurLevel\n",
    "    })"
   ]
  },
  {
   "cell_type": "code",
   "execution_count": 176,
   "metadata": {},
   "outputs": [],
   "source": [
    "def getFaceId():\n",
    "    faceCreds = getFaceAPICreds()\n",
    "    key = getFaceKey(faceCreds)\n",
    "    headers = createHeaders(key, 'octet-stream')\n",
    "    params = createParams()\n",
    "    url = getFaceDetectURL(faceCreds)\n",
    "    body = open('./target.jpg', 'rb')\n",
    "    response = requests.post(url=url,data=body,params=params,headers=headers)\n",
    "    body.close()\n",
    "    faceID = getFaceDetails(response)['faceId']\n",
    "    return(faceID)"
   ]
  },
  {
   "cell_type": "code",
   "execution_count": 202,
   "metadata": {},
   "outputs": [],
   "source": [
    "def createPersonGroup(groupDetails):\n",
    "    faceCreds = getFaceAPICreds()\n",
    "    url = getPersonGroupURL(faceCreds)\n",
    "    fullURL = url + \"/\" + groupId\n",
    "    key = getFaceKey(faceCreds)\n",
    "    headers = createHeaders(key, \"json\")\n",
    "    groupId = groupDetails['id']\n",
    "    groupName = groupDetails['name']\n",
    "    userData = groupDetails['userData']\n",
    "    jsonBody = {\n",
    "        \"name\" : groupName,\n",
    "        \"userData\" : userData\n",
    "    }\n",
    "    req = requests.put(url=fullURL, json=jsonBody, headers=headers)\n",
    "    if(req.status_code == 200):\n",
    "        print(\"Successfully created person group\")\n",
    "    else:\n",
    "        print(\"Something went wrong with person group creation\")\n",
    "        print(\"Status code: \" + req.status_code + \". Reason: \" + req.reason)\n",
    "    return(req)"
   ]
  },
  {
   "cell_type": "code",
   "execution_count": 25,
   "metadata": {},
   "outputs": [],
   "source": [
    "# groupDetails = {\n",
    "#     'id' : 'hospital_department',\n",
    "#     'name' : 'manipal_orthopedics',\n",
    "#     'userData' : 'group that manages Manipal hospital patients under the orthopedics department'\n",
    "# }"
   ]
  },
  {
   "cell_type": "code",
   "execution_count": 39,
   "metadata": {},
   "outputs": [],
   "source": [
    "def getPersonGroupDetails(personGroupId):\n",
    "    faceCreds = getFaceAPICreds()\n",
    "    url = getPersonGroupURL(faceCreds)\n",
    "    headers = createHeaders(getFaceKey(faceCreds), 'json')\n",
    "    fullURL = url + \"/\" + personGroupId\n",
    "    req = requests.get(url=fullURL, headers=headers)\n",
    "    if(req.status_code == 200):\n",
    "        print(\"Name of group: \" + req['name'])\n",
    "        print(\"Group ID of group: \" + req['personGroupId'])\n",
    "        print(\"User data of group: \" + req['userData'])\n",
    "    else:\n",
    "        print(\"Error: \" + str(req.status_code))\n",
    "    return(req)"
   ]
  },
  {
   "cell_type": "code",
   "execution_count": 43,
   "metadata": {},
   "outputs": [],
   "source": [
    "def listPersonGroups():\n",
    "    faceCreds = getFaceAPICreds()\n",
    "    key = getFaceKey(faceCreds)\n",
    "    url = getPersonGroupURL(faceCreds)\n",
    "    headers = createHeaders(key, 'json')\n",
    "    req = requests.get(url=url, headers=headers)\n",
    "    if(req.status_code == 200):\n",
    "        print(\"Success\")\n",
    "    else:\n",
    "        print(\"Something went wrong with listing person groups\")\n",
    "    return(req)"
   ]
  },
  {
   "cell_type": "code",
   "execution_count": 56,
   "metadata": {},
   "outputs": [],
   "source": [
    "def getPersonGroupTrainingStatus(personGroupId):\n",
    "    faceCreds = getFaceAPICreds()\n",
    "    key = getFaceKey(faceCreds)\n",
    "    headers = createHeaders(key, 'json')\n",
    "    url = getPersonGroupURL(faceCreds)\n",
    "    fullURL = url + '/' + personGroupId + '/training'\n",
    "    req = requests.get(url=fullURL, headers=headers)\n",
    "    if(req.status_code != 200):\n",
    "        print(req.json()['error']['message'])\n",
    "    else:\n",
    "        print(req.json()['status'])\n",
    "    return(req)"
   ]
  },
  {
   "cell_type": "code",
   "execution_count": 141,
   "metadata": {},
   "outputs": [],
   "source": [
    "def trainPersonGroup(personGroupId):\n",
    "    faceCreds = getFaceAPICreds()\n",
    "    key = getFaceKey(faceCreds)\n",
    "    headers = createHeaders(key, 'json')\n",
    "    url = getPersonGroupURL(faceCreds)\n",
    "    fullURL = url + '/' + personGroupId + '/train'\n",
    "    req = requests.post(url=fullURL, headers=headers)\n",
    "    if(req.status_code == 202):\n",
    "        print(\"Training has begun\")\n",
    "    else:\n",
    "        print(\"Something went wrong with training the group\")\n",
    "        print(req.json()['error']['message'])\n",
    "    return(req)"
   ]
  },
  {
   "cell_type": "code",
   "execution_count": 89,
   "metadata": {},
   "outputs": [],
   "source": [
    "def createPerson(personGroupId, name, userData):\n",
    "    faceCreds = getFaceAPICreds()\n",
    "    key = getFaceKey(faceCreds)\n",
    "    headers = createHeaders(key, 'json')\n",
    "    url = getPersonGroupURL(faceCreds)\n",
    "    fullURL = url + '/' + personGroupId + '/persons'\n",
    "    body = {\n",
    "        \"name\" : name,\n",
    "        \"userData\" : userData\n",
    "    }\n",
    "    req = requests.post(url=fullURL, headers=headers, json=body)\n",
    "    if(req.status_code == 200):\n",
    "        print(\"Success\")\n",
    "        pprint(req.json())\n",
    "        dbEntryResult = savePersonId(personGroupId, name, req.json()['personId'])\n",
    "        if(result.acknowledged):\n",
    "            print(\"Stored in DB!\")\n",
    "    else:\n",
    "        print(\"Error: \" + str(req.status_code))\n",
    "    return(req)"
   ]
  },
  {
   "cell_type": "code",
   "execution_count": 71,
   "metadata": {},
   "outputs": [],
   "source": [
    "def getDBCreds():\n",
    "    credentials = json.load(open('../credentials.json'))\n",
    "    dbCreds = credentials['database']\n",
    "    return dbCreds\n",
    "\n",
    "def connectToDB(dbCreds):\n",
    "    cosmosConnString = \"mongodb://\" + dbCreds['username'] + \":\" + dbCreds['password'] + \"@\" + dbCreds['host'] + \":\" + str(dbCreds['port']) + \"/?ssl=true&replicaSet=globaldb\"\n",
    "    client = MongoClient(cosmosConnString)\n",
    "    return client\n",
    "\n",
    "def getClient():\n",
    "    dbCreds = getDBCreds()\n",
    "    client = connectToDB(dbCreds)\n",
    "    return client\n",
    "\n",
    "def getPatients(client):\n",
    "    db = client[\"admin\"]\n",
    "    patientCollection = db[\"patients\"]\n",
    "    return patientCollection"
   ]
  },
  {
   "cell_type": "code",
   "execution_count": 84,
   "metadata": {},
   "outputs": [],
   "source": [
    "def savePersonId(personGroupId, name, personId):\n",
    "    client = getClient()\n",
    "    patientCollection = getPatients(client)\n",
    "    dbEntry = {\n",
    "        \"name\" : name,\n",
    "        \"personGroupId\" : personGroupId,\n",
    "        \"personId\" : personId\n",
    "    }\n",
    "    result = patientCollection.insert_one(dbEntry)\n",
    "    print(\"Person stored successfully\")\n",
    "    return(result)"
   ]
  },
  {
   "cell_type": "code",
   "execution_count": 99,
   "metadata": {},
   "outputs": [],
   "source": [
    "# result = savePersonId(\"hospital_department\", \"chirag\", \"00134c21-4094-410b-91be-bf52e34f251b\")"
   ]
  },
  {
   "cell_type": "code",
   "execution_count": 127,
   "metadata": {},
   "outputs": [],
   "source": [
    "def addPersonFace(file, personGroupId, personId):\n",
    "    faceCreds = getFaceAPICreds()\n",
    "    key = getFaceKey(faceCreds)\n",
    "    headers = createHeaders(key, 'octet-stream')\n",
    "    url = getPersonGroupURL(faceCreds)\n",
    "    fullURL = url + '/' + personGroupId + '/persons/' + personId + '/persistedFaces'\n",
    "    body = file.read_bytes()\n",
    "    req = requests.post(url=fullURL, data=body, headers=headers)\n",
    "    print(\"Response: \" + str(req.status_code) + \"; Persisted Face ID: \" + req.json()['persistedFaceId'])\n",
    "    if(req.status_code != 200):\n",
    "        print(\"Error: \" + pprint(req.json()))\n",
    "    else:\n",
    "        print(\"Success\")\n",
    "        pprint(req.json())\n",
    "    return(req)\n",
    "# {'persistedFaceId': '00a07369-b34c-490b-ba2d-c5d9c2a073dd'}"
   ]
  },
  {
   "cell_type": "code",
   "execution_count": 128,
   "metadata": {},
   "outputs": [],
   "source": [
    "def storePersistedFaceId(persistedFaces, personId):\n",
    "    client = getClient()\n",
    "    patientCollection = getPatients(client)\n",
    "    returnedDoc = patientCollection.find_one_and_update(filter={\"personId\":personId}, update={\"$set\" : {\"persistedFaces\" : persistedFaces}}, upsert=True, return_document=ReturnDocument.AFTER)\n",
    "    pprint(returnedDoc)\n",
    "    return(returnedDoc)"
   ]
  },
  {
   "cell_type": "code",
   "execution_count": 209,
   "metadata": {},
   "outputs": [],
   "source": [
    "def addFaces(personGroupId, personId):\n",
    "    p = Path('trainingImages')\n",
    "    # res = addPersonFace(p, \"hospital_department\", \"7234cf7b-2b27-43a7-8fd9-36e131e2fb41\")\n",
    "    persistedFaces = []\n",
    "    for file in p.glob(\"*.jpg\"):\n",
    "        res = addPersonFace(file=file, personGroupId=personGroupId, personId=personId)\n",
    "        persistedFaceId = res.json()['persistedFaceId']\n",
    "        persistedFaces.append(persistedFaceId)\n",
    "    pprint(storePersistedFaceId(persistedFaces, personId))\n",
    "    pprint(persistedFaces)\n",
    "    print(\"Faces have been stored\")"
   ]
  },
  {
   "cell_type": "code",
   "execution_count": 210,
   "metadata": {},
   "outputs": [],
   "source": [
    "def moveImages():\n",
    "    print(\"Add moving image file code here\")"
   ]
  },
  {
   "cell_type": "code",
   "execution_count": 207,
   "metadata": {},
   "outputs": [],
   "source": [
    "def registerPatient(personGroupId, name, userData):\n",
    "    path = captureTrainingImages()\n",
    "#     renameImages(path)\n",
    "    moveImages()\n",
    "    response = createPerson(personGroupId, name, userData)\n",
    "    print(\"Response from createPerson is: \")\n",
    "    pprint(response.json())\n",
    "    print(\"Created person!\")\n",
    "    addFaces(personGroupId, response.json()['personId'])\n",
    "    print(\"Added faces!\")\n",
    "    trainPersonGroup(personGroupId=personGroupId)\n",
    "    print(\"Initiated training of group\")\n",
    "    retries = 4\n",
    "    count = 0\n",
    "    flag = False\n",
    "    while(flag!=True):\n",
    "        print(\"Count #\" + str(count))\n",
    "        if(count>retries):\n",
    "            print(\"Training has commenced but did not finish in the stipulated time. Check again later.\")\n",
    "            flag = True\n",
    "        req = getPersonGroupTrainingStatus(personGroupId)\n",
    "        req = req.json()\n",
    "        if(req['status'] != 'succeeded'):\n",
    "            if(req['status'] == 'failed'):\n",
    "                print(\"Training failed\")\n",
    "                return(False)\n",
    "            elif(req['status'] == 'running'):\n",
    "                print(\"Training is on going. Stand by.\")\n",
    "                count = count + 1\n",
    "                time.sleep(1)\n",
    "            elif(req['status'] == 'notstarted'):\n",
    "                print(\"Training is yet to begin. Stand by.\")\n",
    "                count = count + 1\n",
    "                time.sleep(2)\n",
    "            else:\n",
    "                print(\"Training complete!\")\n",
    "                flag = True\n",
    "                return(True)\n",
    "        else:\n",
    "            flag = True\n",
    "            return(True)\n",
    "    return(True)"
   ]
  },
  {
   "cell_type": "code",
   "execution_count": 205,
   "metadata": {},
   "outputs": [],
   "source": [
    "def captureImage():\n",
    "    # Take a single photo here and rename it as \"target.jpg\"\n",
    "    print(\"Capturing image\")\n",
    "    flag = True\n",
    "    if(flag):\n",
    "        print(\"Image captured!\")\n",
    "        return(True)\n",
    "    else:\n",
    "        print(\"Image capture failed\")\n",
    "        return(False)"
   ]
  },
  {
   "cell_type": "code",
   "execution_count": 218,
   "metadata": {},
   "outputs": [],
   "source": [
    "def findPatient(personId):\n",
    "    client = getClient()\n",
    "    patientCollection = getPatients(client)\n",
    "    dbResult = patientCollection.find_one({\"personId\" : personId})\n",
    "    return(dbResult)"
   ]
  },
  {
   "cell_type": "code",
   "execution_count": 223,
   "metadata": {},
   "outputs": [],
   "source": [
    "def findPatientRecords(response):\n",
    "    personId = response[0]['candidates'][0]['personId']\n",
    "    result = findPatient(personId)\n",
    "    result = result['name']\n",
    "    return(result)"
   ]
  },
  {
   "cell_type": "code",
   "execution_count": 224,
   "metadata": {},
   "outputs": [],
   "source": [
    "def identifyPatient(personGroupId):\n",
    "    if(captureImage()):\n",
    "        print(\"Image prepping for analysis\")\n",
    "    else:\n",
    "        print(\"Image capture failed\")\n",
    "        return(False)\n",
    "    faceIds = []\n",
    "    faceId = getFaceId()\n",
    "    faceIds.append(faceId)\n",
    "    faceCreds = getFaceAPICreds()\n",
    "    key = getFaceKey(faceCreds)\n",
    "    url = getFaceIdentifyURL(faceCreds)\n",
    "    headers = createHeaders(key, 'json')\n",
    "    body = {\n",
    "        \"faceIds\" : faceIds,\n",
    "        \"personGroupId\" : personGroupId,\n",
    "        \"maxNumOfCandidatesReturned\" : 1,\n",
    "        \"confidenceThreshold\" : 0.7\n",
    "    }\n",
    "    req = requests.post(url=url, headers=headers, json=body)\n",
    "    candidate = findPatientRecords(req.json())\n",
    "    response = \"Hello, \" + candidate\n",
    "    return(response)"
   ]
  },
  {
   "cell_type": "code",
   "execution_count": 216,
   "metadata": {},
   "outputs": [],
   "source": [
    "def getName():\n",
    "    name = input(\"What is your name?\")\n",
    "    return(name)"
   ]
  },
  {
   "cell_type": "code",
   "execution_count": 228,
   "metadata": {},
   "outputs": [],
   "source": [
    "def faceHandler(intentAndEntity):\n",
    "    personGroupId = 'hospital_department'\n",
    "    intent = intentAndEntity['intent']\n",
    "    entities = intentAndEntity['entities']\n",
    "    if(intent == 'medical.registerPatient'):\n",
    "        #add registration process here\n",
    "        userData = \"Sample user data\"\n",
    "        name = getName()\n",
    "        registerPatient(personGroupId=personGroupId, userData=userData, name=name)\n",
    "    elif(intent=='medical.identifyPatient'):\n",
    "        response = identifyPatient(personGroupId)\n",
    "        print(response)\n",
    "    else:\n",
    "        print(\"I am unable to do that\")"
   ]
  }
 ],
 "metadata": {
  "kernelspec": {
   "display_name": "Python 3",
   "language": "python",
   "name": "python3"
  },
  "language_info": {
   "codemirror_mode": {
    "name": "ipython",
    "version": 3
   },
   "file_extension": ".py",
   "mimetype": "text/x-python",
   "name": "python",
   "nbconvert_exporter": "python",
   "pygments_lexer": "ipython3",
   "version": "3.5.4"
  }
 },
 "nbformat": 4,
 "nbformat_minor": 2
}

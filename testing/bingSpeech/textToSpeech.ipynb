{
 "cells": [
  {
   "cell_type": "code",
   "execution_count": 3,
   "metadata": {},
   "outputs": [],
   "source": [
    "import requests, wave, json, base64, wave, pygame\n",
    "from xml.etree import ElementTree\n",
    "from pprint import pprint"
   ]
  },
  {
   "cell_type": "code",
   "execution_count": 4,
   "metadata": {},
   "outputs": [],
   "source": [
    "def getBingCreds():\n",
    "    credentials = json.load(open('../credentials.json'))\n",
    "    bingCreds = credentials['cognitiveServices']['bingSpeech']\n",
    "    return bingCreds"
   ]
  },
  {
   "cell_type": "code",
   "execution_count": 5,
   "metadata": {},
   "outputs": [],
   "source": [
    "def getBingEndpoint():\n",
    "    return getBingCreds()['endPoint']\n",
    "\n",
    "def getTTSEndpoint():\n",
    "    return(\"https://speech.platform.bing.com/synthesize\")\n",
    "\n",
    "def getBingKey():\n",
    "    return getBingCreds()['key']"
   ]
  },
  {
   "cell_type": "code",
   "execution_count": 6,
   "metadata": {},
   "outputs": [],
   "source": [
    "def getToken():\n",
    "    url = getBingEndpoint() + '/issueToken'\n",
    "    headers = {\n",
    "        \"Ocp-Apim-Subscription-Key\" : getBingKey()\n",
    "    }\n",
    "    req = requests.post(url=url, headers=headers)\n",
    "    data = req.content\n",
    "    accessToken = data.decode(\"UTF-8\")\n",
    "    return(accessToken)"
   ]
  },
  {
   "cell_type": "code",
   "execution_count": 7,
   "metadata": {},
   "outputs": [],
   "source": [
    "def createBody(text):\n",
    "    body = ElementTree.Element('speak', version='1.0')\n",
    "    body.set('{http://www.w3.org/XML/1998/namespace}lang', 'en-us')\n",
    "    voice = ElementTree.SubElement(body, 'voice')\n",
    "    voice.set('{http://www.w3.org/XML/1998/namespace}lang', 'en-US')\n",
    "    voice.set('{http://www.w3.org/XML/1998/namespace}gender', 'Female')\n",
    "    voice.set('name', 'Microsoft Server Speech Text to Speech Voice (en-US, ZiraRUS)')\n",
    "    voice.text = text\n",
    "    return(ElementTree.tostring(body))"
   ]
  },
  {
   "cell_type": "code",
   "execution_count": 8,
   "metadata": {},
   "outputs": [],
   "source": [
    "def createTTSHeaders(accessToken):\n",
    "    headers = {\"Content-Type\": \"application/ssml+xml\", \n",
    "\t\t\t\"X-Microsoft-OutputFormat\": \"riff-16khz-16bit-mono-pcm\", \n",
    "\t\t\t\"Authorization\": \"Bearer \" + accessToken, \n",
    "\t\t\t\"X-Search-AppId\": \"07D3234E49CE426DAA29772419F436CA\", \n",
    "\t\t\t\"X-Search-ClientID\": \"1ECFAE91408841A480F00935DC390960\", \n",
    "\t\t\t\"User-Agent\": \"testApp\"}\n",
    "    return(headers)"
   ]
  },
  {
   "cell_type": "code",
   "execution_count": 9,
   "metadata": {},
   "outputs": [],
   "source": [
    "def sendToBing(text):\n",
    "    accessToken = getToken()\n",
    "    print(\"access token obtained\")\n",
    "    print(\"Access token type: \")\n",
    "    print(type(accessToken))\n",
    "    body = createBody(text)\n",
    "    headers = createTTSHeaders(accessToken)\n",
    "    url = getTTSEndpoint()\n",
    "    req = requests.post(url=url, data=body, headers=headers)\n",
    "    if(req.status_code == 200):\n",
    "        print(\"Successfully converted text to speech\")\n",
    "        return(req.content)\n",
    "    else:\n",
    "        print(\"Something went wrong when sending the data to bing. Status Code:\")\n",
    "        print(req.status_code)\n",
    "        print(req.reason)\n",
    "        return(False)"
   ]
  },
  {
   "cell_type": "code",
   "execution_count": 10,
   "metadata": {},
   "outputs": [],
   "source": [
    "# def createAudioResponse(audioData):\n",
    "#     try:\n",
    "#         with wave.open('./response.wav', mode='wb') as audioResponse:\n",
    "#             audioResponse.setnchannels(1)\n",
    "#             audioResponse.setframerate(16000)\n",
    "#             audioResponse.setsampwidth(2)\n",
    "#             audioResponse.writeframes(audioData)\n",
    "#         return(True)\n",
    "#     except:\n",
    "#         print(\"Audio file creation failed\")\n",
    "#         return(False)"
   ]
  },
  {
   "cell_type": "code",
   "execution_count": 11,
   "metadata": {},
   "outputs": [],
   "source": [
    "def createAudioResponse(audioData):\n",
    "    with wave.open('./response.wav', mode='wb') as audioResponse:\n",
    "        audioResponse.setnchannels(1)\n",
    "        audioResponse.setframerate(16000)\n",
    "        audioResponse.setsampwidth(2)\n",
    "        audioResponse.writeframes(audioData)\n",
    "        audioResponse.close()\n",
    "        return(True)        "
   ]
  },
  {
   "cell_type": "code",
   "execution_count": 12,
   "metadata": {},
   "outputs": [],
   "source": [
    "def playAudioResponse():\n",
    "    pygame.mixer.init(frequency=16000, channels=1, size=-16)\n",
    "    pygame.mixer.music.load('response.wav')\n",
    "    pygame.mixer.music.play()\n",
    "    while pygame.mixer.music.get_busy() == True:\n",
    "        continue\n",
    "    pygame.mixer.quit()\n",
    "    pygame.quit()"
   ]
  },
  {
   "cell_type": "code",
   "execution_count": 13,
   "metadata": {},
   "outputs": [],
   "source": [
    "def tts(text):\n",
    "    rawAudio = sendToBing(text)\n",
    "    if(rawAudio == False):\n",
    "        print(\"Something went wrong with Bing TTS\")\n",
    "    else:\n",
    "        audioCreationResult = createAudioResponse(rawAudio)\n",
    "        if(audioCreationResult == False):\n",
    "            print(\"Something went wrong with audio file creation\")\n",
    "        else:\n",
    "            print(\"Successfully created audio file\")\n",
    "            playAudioResponse()"
   ]
  }
 ],
 "metadata": {
  "kernelspec": {
   "display_name": "Python 3",
   "language": "python",
   "name": "python3"
  },
  "language_info": {
   "codemirror_mode": {
    "name": "ipython",
    "version": 3
   },
   "file_extension": ".py",
   "mimetype": "text/x-python",
   "name": "python",
   "nbconvert_exporter": "python",
   "pygments_lexer": "ipython3",
   "version": "3.5.4"
  }
 },
 "nbformat": 4,
 "nbformat_minor": 2
}

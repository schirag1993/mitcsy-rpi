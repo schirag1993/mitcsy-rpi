{
 "cells": [
  {
   "cell_type": "code",
   "execution_count": 3,
   "metadata": {},
   "outputs": [],
   "source": [
    "import requests, json, wave\n",
    "from pprint import pprint"
   ]
  },
  {
   "cell_type": "code",
   "execution_count": 4,
   "metadata": {},
   "outputs": [],
   "source": [
    "def getBingCreds():\n",
    "    '''\n",
    "    This function takes no arguments. It retrieves the credentials stored in the credentials file and returns it in dict format.\n",
    "    The keys for the resulting dictionary are:\n",
    "    1. key\n",
    "    2. endPoint\n",
    "    '''\n",
    "    credentials = json.load(open('../credentials.json'))\n",
    "    bingCreds = credentials['cognitiveServices']['bingSpeech']\n",
    "    return bingCreds\n",
    "\n",
    "def getBingKey():\n",
    "    return getBingCreds()['key']"
   ]
  },
  {
   "cell_type": "code",
   "execution_count": 5,
   "metadata": {},
   "outputs": [],
   "source": [
    "def getBingEndpoint():\n",
    "    '''\n",
    "    Returns the endpoint specified in the Azure resource page\n",
    "    '''\n",
    "    return getBingCreds()['endPoint']\n",
    "\n",
    "def getSTTEndpoint(mode, lang):\n",
    "    return(\"https://speech.platform.bing.com/speech/recognition/\" + mode + \"/cognitiveservices/v1?language=\" + lang + \"&format=simple\")"
   ]
  },
  {
   "cell_type": "code",
   "execution_count": 6,
   "metadata": {},
   "outputs": [],
   "source": [
    "def createHeaders():\n",
    "    bingCreds = getBingCreds()\n",
    "    key = bingCreds['key']\n",
    "    headers = {\n",
    "        'Content-Type' : \"audio/wav; codec=audio/pcm; samplerate=16000\",\n",
    "        'Ocp-Apim-Subscription-Key' : key,\n",
    "    }\n",
    "    return(headers)"
   ]
  },
  {
   "cell_type": "code",
   "execution_count": 27,
   "metadata": {},
   "outputs": [],
   "source": [
    "def handleSTTResponse(req):\n",
    "    result = req.json()\n",
    "    if(result['RecognitionStatus'] == 'Success'):\n",
    "        return(True, result['DisplayText'])\n",
    "    elif(result['RecognitionStatus'] == 'NoMatch'):\n",
    "        return(False, \"Unable to match words with target langauge. Try again.\")\n",
    "    elif(result['RecognitionStatus'] == 'InitialSilenceTimeout'):\n",
    "        return(False, \"Say something, I'm giving up on you.\")\n",
    "    elif(result['RecognitionStatus'] == 'BabbleTimeout'):\n",
    "        return(False, \"Quit your babbling. Too much noise here\")\n",
    "    elif(result['RecognitionStatus'] == 'Error'):\n",
    "        return(False, \"Oops! Looks like something went wrong on the server side.\")"
   ]
  },
  {
   "cell_type": "code",
   "execution_count": 25,
   "metadata": {},
   "outputs": [],
   "source": [
    "def stt():\n",
    "    with open('./query.wav', 'rb') as audioFile:\n",
    "        body = audioFile.read()\n",
    "        url = getSTTEndpoint('dictation', 'en-US')\n",
    "        headers = createHeaders()\n",
    "        req = requests.post(url=url, headers=headers, data=body)\n",
    "    if(req.status_code != 200):\n",
    "        print(\"Something went wrong.\")\n",
    "        print(\"Error Code: \" + str(req.status_code))\n",
    "        print(\"Reason: \" + str(req.reason))\n",
    "        return(False)\n",
    "    else:\n",
    "        print(\"Response Success\")\n",
    "        result = handleSTTResponse(req)\n",
    "        return(result)"
   ]
  }
 ],
 "metadata": {
  "kernelspec": {
   "display_name": "Python 3",
   "language": "python",
   "name": "python3"
  },
  "language_info": {
   "codemirror_mode": {
    "name": "ipython",
    "version": 3
   },
   "file_extension": ".py",
   "mimetype": "text/x-python",
   "name": "python",
   "nbconvert_exporter": "python",
   "pygments_lexer": "ipython3",
   "version": "3.5.4"
  }
 },
 "nbformat": 4,
 "nbformat_minor": 2
}

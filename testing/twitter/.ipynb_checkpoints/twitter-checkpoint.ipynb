{
 "cells": [
  {
   "cell_type": "code",
   "execution_count": 1,
   "metadata": {},
   "outputs": [],
   "source": [
    "import twitter, requests, json, random\n",
    "from bingSpeech.textToSpeech import playSelfieAudioResponse"
   ]
  },
  {
   "cell_type": "code",
   "execution_count": 2,
   "metadata": {},
   "outputs": [],
   "source": [
    "def getTwitterCreds():\n",
    "    credentials = json.load(open('../credentials.json'))\n",
    "    twitterCreds = credentials['twitter']\n",
    "    return(twitterCreds)"
   ]
  },
  {
   "cell_type": "code",
   "execution_count": 3,
   "metadata": {},
   "outputs": [],
   "source": [
    "def getTwitterAPI():\n",
    "    twitterCreds = getTwitterCreds()\n",
    "    twitterAPI = twitter.Api(consumer_key=twitterCreds['consumerKey'],\n",
    "                         consumer_secret=twitterCreds['consumerSecret'], \n",
    "                         access_token_key=twitterCreds['accessToken'],\n",
    "                         access_token_secret=twitterCreds['accessTokenSecret'])\n",
    "    return(twitterAPI)"
   ]
  },
  {
   "cell_type": "code",
   "execution_count": 4,
   "metadata": {},
   "outputs": [],
   "source": [
    "def getStatus():\n",
    "    statusList = ['Its a great time to be alive #IoTShow2017 #CloudThat #MoveUp',\n",
    "                  '#CloudThat is at the #IoTShow2017,come meet us! #MoveUp',\n",
    "                  'Come check out #Cloudthat at the #IoTShow2017',\n",
    "                  'Want to know more about IoT? #CloudThat is the booth to be at! #IoTShow2017'\n",
    "                 ]\n",
    "    return(random.choice(statusList))"
   ]
  },
  {
   "cell_type": "code",
   "execution_count": 5,
   "metadata": {},
   "outputs": [],
   "source": [
    "def postStatus():\n",
    "    api = getTwitterAPI()\n",
    "    with open('selfie.jpg', 'rb') as mediaImage:\n",
    "        res = api.PostUpdate(status=getStatus(), media=mediaImage)\n",
    "        return(res)"
   ]
  },
  {
   "cell_type": "code",
   "execution_count": 6,
   "metadata": {},
   "outputs": [],
   "source": [
    "def captureSelfie():\n",
    "    print(\"Selfie captured!\")\n",
    "    #Add camera code here\n",
    "    playSelfieAudioResponse()"
   ]
  },
  {
   "cell_type": "code",
   "execution_count": 7,
   "metadata": {},
   "outputs": [],
   "source": [
    "def tweet():\n",
    "    captureSelfie()\n",
    "    postStatus()\n",
    "    return(True)"
   ]
  }
 ],
 "metadata": {
  "kernelspec": {
   "display_name": "Python 3",
   "language": "python",
   "name": "python3"
  },
  "language_info": {
   "codemirror_mode": {
    "name": "ipython",
    "version": 3
   },
   "file_extension": ".py",
   "mimetype": "text/x-python",
   "name": "python",
   "nbconvert_exporter": "python",
   "pygments_lexer": "ipython3",
   "version": "3.5.4"
  }
 },
 "nbformat": 4,
 "nbformat_minor": 2
}

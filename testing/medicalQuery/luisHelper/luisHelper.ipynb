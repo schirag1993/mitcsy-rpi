{
 "cells": [
  {
   "cell_type": "markdown",
   "metadata": {},
   "source": [
    "# Library Functions"
   ]
  },
  {
   "cell_type": "code",
   "execution_count": 14,
   "metadata": {},
   "outputs": [],
   "source": [
    "from luis_sdk import LUISClient\n",
    "import json\n",
    "from pprint import pprint"
   ]
  },
  {
   "cell_type": "markdown",
   "metadata": {},
   "source": [
    "# Global Variables"
   ]
  },
  {
   "cell_type": "code",
   "execution_count": 16,
   "metadata": {},
   "outputs": [],
   "source": [
    "luisCreds = getLUISCreds()"
   ]
  },
  {
   "cell_type": "code",
   "execution_count": 17,
   "metadata": {},
   "outputs": [],
   "source": [
    "luisClient = LUISClient(luisCreds['appID'], luisCreds['key'], True)"
   ]
  },
  {
   "cell_type": "markdown",
   "metadata": {},
   "source": [
    "# Helper Functions"
   ]
  },
  {
   "cell_type": "markdown",
   "metadata": {},
   "source": [
    "### Credentials Function:"
   ]
  },
  {
   "cell_type": "code",
   "execution_count": 15,
   "metadata": {},
   "outputs": [],
   "source": [
    "def getLUISCreds():\n",
    "    credentials = json.load(open('../credentials.json'))\n",
    "    luisCreds = credentials['cognitiveServices']['luis']\n",
    "    return luisCreds"
   ]
  },
  {
   "cell_type": "markdown",
   "metadata": {},
   "source": [
    "### Intent and Entities Functions:"
   ]
  },
  {
   "cell_type": "code",
   "execution_count": 18,
   "metadata": {},
   "outputs": [],
   "source": [
    "def getPrediction(text):\n",
    "    luisClient = LUISClient(luisCreds['appID'], luisCreds['key'], True)\n",
    "    res = luisClient.predict(text)\n",
    "    return res"
   ]
  },
  {
   "cell_type": "code",
   "execution_count": 26,
   "metadata": {},
   "outputs": [],
   "source": [
    "def getIntent(res):\n",
    "    return res.get_top_intent().get_name()"
   ]
  },
  {
   "cell_type": "code",
   "execution_count": 27,
   "metadata": {},
   "outputs": [],
   "source": [
    "def getEntities(res):\n",
    "    entities = []\n",
    "    for entitity in res.get_entities():\n",
    "        print(entitity.get_type() + \" : \" + entitity.get_name())\n",
    "        entity = {entitity.get_type():entitity.get_name()}\n",
    "        entities.append(entity)\n",
    "    return entities"
   ]
  },
  {
   "cell_type": "code",
   "execution_count": 30,
   "metadata": {},
   "outputs": [],
   "source": [
    "def getIntentAndEntities(text):\n",
    "    result = getPrediction(text)\n",
    "    pprint(result)\n",
    "    intent = getIntent(result)\n",
    "    pprint(intent)\n",
    "    entities = getEntities(result)\n",
    "    pprint(entities)\n",
    "    result = {\"intent\" : intent,\n",
    "              \"entities\" : entities\n",
    "             }\n",
    "    return result"
   ]
  }
 ],
 "metadata": {
  "kernelspec": {
   "display_name": "Python 3",
   "language": "python",
   "name": "python3"
  },
  "language_info": {
   "codemirror_mode": {
    "name": "ipython",
    "version": 3
   },
   "file_extension": ".py",
   "mimetype": "text/x-python",
   "name": "python",
   "nbconvert_exporter": "python",
   "pygments_lexer": "ipython3",
   "version": "3.5.4"
  }
 },
 "nbformat": 4,
 "nbformat_minor": 2
}

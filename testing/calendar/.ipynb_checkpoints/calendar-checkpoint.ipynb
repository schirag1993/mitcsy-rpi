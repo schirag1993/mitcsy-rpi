{
 "cells": [
  {
   "cell_type": "code",
   "execution_count": 25,
   "metadata": {},
   "outputs": [],
   "source": [
    "import requests, json, requests_oauthlib, time\n",
    "from pprint import pprint"
   ]
  },
  {
   "cell_type": "code",
   "execution_count": 8,
   "metadata": {},
   "outputs": [],
   "source": [
    "def getGoogleCreds():\n",
    "    credentials = json.load(open('../credentials.json'))\n",
    "    googleCreds = credentials['google']\n",
    "    return googleCreds"
   ]
  },
  {
   "cell_type": "code",
   "execution_count": 29,
   "metadata": {},
   "outputs": [],
   "source": [
    "params = {\n",
    "    \"scope\" : getGoogleCreds()['scope'],\n",
    "    \"client_id\" : getGoogleCreds()['clientId']\n",
    "}"
   ]
  },
  {
   "cell_type": "code",
   "execution_count": 41,
   "metadata": {},
   "outputs": [],
   "source": [
    "url = \"https://accounts.google.com/o/oauth2/device/code\""
   ]
  },
  {
   "cell_type": "code",
   "execution_count": 42,
   "metadata": {},
   "outputs": [],
   "source": [
    "response = requests.post(url=url, params=params)"
   ]
  },
  {
   "cell_type": "code",
   "execution_count": 43,
   "metadata": {},
   "outputs": [
    {
     "data": {
      "text/plain": [
       "200"
      ]
     },
     "execution_count": 43,
     "metadata": {},
     "output_type": "execute_result"
    }
   ],
   "source": [
    "response.status_code"
   ]
  },
  {
   "cell_type": "code",
   "execution_count": 44,
   "metadata": {},
   "outputs": [
    {
     "data": {
      "text/plain": [
       "{'device_code': 'AH-1Ng3MeDsc4xOjt0jRIlYG-FCaqdF249v3RH-aVZosVxs6Zvd3NYiCiagLgfziaoq3Tn3MU0M23tlXRnCZkUH_xn8oRu0w2A',\n",
       " 'expires_in': 1800,\n",
       " 'interval': 5,\n",
       " 'user_code': 'QVXW-SYBX',\n",
       " 'verification_url': 'https://www.google.com/device'}"
      ]
     },
     "execution_count": 44,
     "metadata": {},
     "output_type": "execute_result"
    }
   ],
   "source": [
    "response.json()"
   ]
  },
  {
   "cell_type": "code",
   "execution_count": 45,
   "metadata": {},
   "outputs": [],
   "source": [
    "verificationURL = response.json()['verification_url']"
   ]
  },
  {
   "cell_type": "code",
   "execution_count": 46,
   "metadata": {},
   "outputs": [],
   "source": [
    "pollURL = \"https://www.googleapis.com/oauth2/v4/token\"\n",
    "pollParams = {\n",
    "    \"client_id\" : getGoogleCreds()['clientId'],\n",
    "    \"client_secret\" : getGoogleCreds()['clientSecret'],\n",
    "    \"code\" : response.json()['device_code'],\n",
    "    \"grant_type\" : \" http://oauth.net/grant_type/device/1.0\",\n",
    "}\n",
    "headers = {\n",
    "    \"Content-Type\" : \"application/x-www-form-urlencoded\"\n",
    "}"
   ]
  },
  {
   "cell_type": "code",
   "execution_count": 47,
   "metadata": {},
   "outputs": [
    {
     "name": "stdout",
     "output_type": "stream",
     "text": [
      "400\n",
      "https://www.googleapis.com/oauth2/v4/token?client_id=87625407614-mrumofapngq2r9dfs9jfl7qophdc3sad.apps.googleusercontent.com&client_secret=hEBgLPkDrqruIpKWQnJq07fm&grant_type=+http%3A%2F%2Foauth.net%2Fgrant_type%2Fdevice%2F1.0&code=AH-1Ng3MeDsc4xOjt0jRIlYG-FCaqdF249v3RH-aVZosVxs6Zvd3NYiCiagLgfziaoq3Tn3MU0M23tlXRnCZkUH_xn8oRu0w2A\n",
      "{'error': 'unsupported_grant_type',\n",
      " 'error_description': 'Invalid grant_type:  '\n",
      "                      'http://oauth.net/grant_type/device/1.0'}\n",
      "400\n",
      "https://www.googleapis.com/oauth2/v4/token?client_id=87625407614-mrumofapngq2r9dfs9jfl7qophdc3sad.apps.googleusercontent.com&client_secret=hEBgLPkDrqruIpKWQnJq07fm&grant_type=+http%3A%2F%2Foauth.net%2Fgrant_type%2Fdevice%2F1.0&code=AH-1Ng3MeDsc4xOjt0jRIlYG-FCaqdF249v3RH-aVZosVxs6Zvd3NYiCiagLgfziaoq3Tn3MU0M23tlXRnCZkUH_xn8oRu0w2A\n",
      "{'error': 'unsupported_grant_type',\n",
      " 'error_description': 'Invalid grant_type:  '\n",
      "                      'http://oauth.net/grant_type/device/1.0'}\n"
     ]
    }
   ],
   "source": [
    "res = requests.post(url=pollURL, params=pollParams)\n",
    "for i in range(0, 2):\n",
    "    if(res.status_code == 200):\n",
    "        continue\n",
    "    else:\n",
    "        print(res.status_code)\n",
    "        print(res.url)\n",
    "        pprint(res.json())\n",
    "        res = requests.post(url=pollURL, params=pollParams, headers=headers)\n",
    "        time.sleep(5)"
   ]
  },
  {
   "cell_type": "code",
   "execution_count": 23,
   "metadata": {},
   "outputs": [
    {
     "data": {
      "text/plain": [
       "{'error': 'unsupported_grant_type',\n",
       " 'error_description': 'Invalid grant_type:  http://oauth.net/grant_type/device/1.0'}"
      ]
     },
     "execution_count": 23,
     "metadata": {},
     "output_type": "execute_result"
    }
   ],
   "source": [
    "res.json()"
   ]
  },
  {
   "cell_type": "code",
   "execution_count": null,
   "metadata": {},
   "outputs": [],
   "source": []
  }
 ],
 "metadata": {
  "kernelspec": {
   "display_name": "Python 3",
   "language": "python",
   "name": "python3"
  },
  "language_info": {
   "codemirror_mode": {
    "name": "ipython",
    "version": 3
   },
   "file_extension": ".py",
   "mimetype": "text/x-python",
   "name": "python",
   "nbconvert_exporter": "python",
   "pygments_lexer": "ipython3",
   "version": "3.4.2"
  }
 },
 "nbformat": 4,
 "nbformat_minor": 2
}

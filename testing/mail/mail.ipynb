{
 "cells": [
  {
   "cell_type": "code",
   "execution_count": 8,
   "metadata": {},
   "outputs": [],
   "source": [
    "import requests, json\n",
    "from audioRecorderAutoStop import record_to_file\n",
    "from bingSpeech.speechToText import stt\n",
    "from bingSpeech.textToSpeech import tts\n",
    "from pprint import pprint\n",
    "from pymongo import MongoClient"
   ]
  },
  {
   "cell_type": "code",
   "execution_count": 10,
   "metadata": {},
   "outputs": [],
   "source": [
    "def getDBCreds():\n",
    "    credentials = json.load(open('../credentials.json'))\n",
    "    dbCreds = credentials['database2']\n",
    "    return dbCreds"
   ]
  },
  {
   "cell_type": "code",
   "execution_count": 11,
   "metadata": {},
   "outputs": [],
   "source": [
    "def connectToDB(dbCreds):\n",
    "    mongoConnString = \"mongodb://\" + dbCreds['username'] + \":\" + dbCreds['password'] + \"@\" + dbCreds['host'] + \":\" + str(dbCreds['port']) + '/' + dbCreds['dbName']\n",
    "#     mongoConnString = \"mongodb://{0}:{1}@{2}:{3}/{4}\".format(dbCreds['username'], dbCreds['password'], dbCreds['host'], str(dbCreds['port']), dbCreds['dbName'])\n",
    "    client = MongoClient(mongoConnString)\n",
    "    return client"
   ]
  },
  {
   "cell_type": "code",
   "execution_count": 12,
   "metadata": {},
   "outputs": [],
   "source": [
    "def getClient():\n",
    "    dbCreds = getDBCreds()\n",
    "    client = connectToDB(dbCreds)\n",
    "    return client"
   ]
  },
  {
   "cell_type": "code",
   "execution_count": 6,
   "metadata": {},
   "outputs": [],
   "source": [
    "def getDocCollection(client):\n",
    "    db = client[\"mitcsy\"]\n",
    "    docCollection = db[\"doctors\"]\n",
    "    return docCollection"
   ]
  },
  {
   "cell_type": "code",
   "execution_count": 40,
   "metadata": {},
   "outputs": [],
   "source": [
    "def getMailID(name):\n",
    "    client = getClient()\n",
    "    docCollection = getDocCollection(client)\n",
    "    record = docCollection.find_one(filter={'name':name})\n",
    "    if(record):\n",
    "        return(record['mail'])\n",
    "    else:\n",
    "        return(False)"
   ]
  },
  {
   "cell_type": "code",
   "execution_count": 42,
   "metadata": {},
   "outputs": [],
   "source": [
    "a = getMailID('foster')"
   ]
  },
  {
   "cell_type": "code",
   "execution_count": 45,
   "metadata": {},
   "outputs": [],
   "source": [
    "def sendMail(data):\n",
    "    url = \"INVALID URL\"\n",
    "    auth=(\"api\", \"INVALID API KEY\")\n",
    "    response = requests.post(url=url, auth=auth, data=data)\n",
    "    if(response.status_code == 200):\n",
    "        print(\"Success!\")\n",
    "        return(\"Successfully sent mail\")\n",
    "    else:\n",
    "        return(\"Failed to send mail. Try again later\")"
   ]
  },
  {
   "cell_type": "code",
   "execution_count": 50,
   "metadata": {},
   "outputs": [],
   "source": [
    "def getMailDetails():\n",
    "    tts(\"What shall I enter as the subject?\")\n",
    "    record_to_file('mailSubject.wav')\n",
    "    sub = stt('mailSubject.wav')\n",
    "    if(sub[0] == False):\n",
    "        print(\"Note: Error in STT while obtaining subject\")\n",
    "        sub = False\n",
    "        return((False, False, False))\n",
    "    tts('Whom should the mail be sent to?')\n",
    "    record_to_file('mailTo.wav')\n",
    "    mailTo = stt('mailTo.wav')\n",
    "    if(mailTo[0] == False):\n",
    "        print(\"Error in STT while obtaining email address to send to.\")\n",
    "        mailTo = False\n",
    "        return((False, False, False))\n",
    "    tts('What should be in the body?')\n",
    "    record_to_file('mailBody.wav')\n",
    "    body = stt('mailBody.wav')\n",
    "    if(body[0] == False):\n",
    "        print(\"Error in STT while obtaining body of mail\")\n",
    "        body = False\n",
    "        return((False, False, False))\n",
    "    mailDetails = (mailTo[1], sub[1], body[1])\n",
    "    return(mailDetails)"
   ]
  },
  {
   "cell_type": "code",
   "execution_count": 46,
   "metadata": {},
   "outputs": [],
   "source": [
    "def createMail():\n",
    "    toMail, subject, body = getMailDetails()\n",
    "    mailId = getMailID(mailTo)\n",
    "    if(mailId == False):\n",
    "        print(\"Mail ID not found\")\n",
    "        return(False)\n",
    "    fromMail = \"Mailgun Sandbox <postmaster@sandbox62818be204d9434b94235950b924fb19.mailgun.org>\"\n",
    "    data = {\n",
    "        \"from\" : fromMail,\n",
    "        \"to\" : toMail,\n",
    "        \"subject\" : subject,\n",
    "        \"text\" : body\n",
    "    }\n",
    "    print(\"Data is: \")\n",
    "    pprint(data)\n",
    "    return(data)"
   ]
  },
  {
   "cell_type": "code",
   "execution_count": 41,
   "metadata": {},
   "outputs": [],
   "source": [
    "def mailGun():\n",
    "    data = createMail()\n",
    "    if(data == False):\n",
    "        print(\"Unable to send mail. Unable to obtain mail address\")\n",
    "        return(\"Unable to send mail. Unable to obtain mail address\")\n",
    "    response = sendMail(data)\n",
    "    return(response)"
   ]
  }
 ],
 "metadata": {
  "kernelspec": {
   "display_name": "Python 3",
   "language": "python",
   "name": "python3"
  },
  "language_info": {
   "codemirror_mode": {
    "name": "ipython",
    "version": 3
   },
   "file_extension": ".py",
   "mimetype": "text/x-python",
   "name": "python",
   "nbconvert_exporter": "python",
   "pygments_lexer": "ipython3",
   "version": "3.4.2"
  }
 },
 "nbformat": 4,
 "nbformat_minor": 2
}
